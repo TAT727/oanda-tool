{
 "cells": [
  {
   "cell_type": "code",
   "id": "d6d181cb",
   "metadata": {
    "ExecuteTime": {
     "end_time": "2024-10-04T08:36:19.231696Z",
     "start_time": "2024-10-04T08:36:19.228058Z"
    }
   },
   "source": [
    "import pandas as pd\n",
    "import glob\n",
    "\n",
    "import warnings\n",
    "warnings.filterwarnings('ignore')"
   ],
   "outputs": [],
   "execution_count": 4
  },
  {
   "cell_type": "code",
   "id": "81a2825a",
   "metadata": {
    "ExecuteTime": {
     "end_time": "2024-10-04T08:36:22.269006Z",
     "start_time": "2024-10-04T08:36:22.261719Z"
    }
   },
   "source": [
    "top100_file_list = glob.glob(\"data/top100*csv\")\n",
    "top100_file_list.sort()\n",
    "top100_file_list"
   ],
   "outputs": [
    {
     "data": {
      "text/plain": [
       "['data/top100_traders_20220101_20220131.csv',\n",
       " 'data/top100_traders_20220201_20220228.csv',\n",
       " 'data/top100_traders_20220301_20220331.csv',\n",
       " 'data/top100_traders_20220401_20220430.csv',\n",
       " 'data/top100_traders_20220501_20220531.csv',\n",
       " 'data/top100_traders_20220601_20220630.csv',\n",
       " 'data/top100_traders_20220701_20220731.csv',\n",
       " 'data/top100_traders_20220801_20220831.csv',\n",
       " 'data/top100_traders_20220901_20220930.csv',\n",
       " 'data/top100_traders_20221001_20221031.csv',\n",
       " 'data/top100_traders_20221101_20221130.csv',\n",
       " 'data/top100_traders_20221201_20221231.csv',\n",
       " 'data/top100_traders_20230101_20230131.csv',\n",
       " 'data/top100_traders_20230201_20230228.csv',\n",
       " 'data/top100_traders_20230301_20230331.csv',\n",
       " 'data/top100_traders_20230401_20230430.csv',\n",
       " 'data/top100_traders_20230501_20230531.csv',\n",
       " 'data/top100_traders_20230601_20230630.csv',\n",
       " 'data/top100_traders_20230701_20230731.csv',\n",
       " 'data/top100_traders_20230801_20230831.csv',\n",
       " 'data/top100_traders_20230901_20230930.csv',\n",
       " 'data/top100_traders_20231001_20231031.csv',\n",
       " 'data/top100_traders_20231101_20231130.csv',\n",
       " 'data/top100_traders_20231201_20231231.csv',\n",
       " 'data/top100_traders_20240101_20240131.csv',\n",
       " 'data/top100_traders_20240201_20240229.csv',\n",
       " 'data/top100_traders_20240301_20240331.csv',\n",
       " 'data/top100_traders_20240401_20240430.csv',\n",
       " 'data/top100_traders_20240501_20240531.csv',\n",
       " 'data/top100_traders_20240601_20240630.csv',\n",
       " 'data/top100_traders_20240701_20240731.csv',\n",
       " 'data/top100_traders_20240801_20240831.csv',\n",
       " 'data/top100_traders_20240901_20240930.csv']"
      ]
     },
     "execution_count": 5,
     "metadata": {},
     "output_type": "execute_result"
    }
   ],
   "execution_count": 5
  },
  {
   "cell_type": "markdown",
   "id": "c37f658c",
   "metadata": {},
   "source": [
    "## STEP1: アカウント抽出 \n",
    "- 前月のアカウント一覧から上位200と下位200を抽出\n",
    "- 過去6ヶ月のアカウント一覧から6ヶ月連続でプラスとなっているアカウントを全て抽出\n",
    "\n",
    "このデータをOANDAのエンジニアに渡して、ユーザーごとの取引データを抽出してもらう"
   ]
  },
  {
   "cell_type": "code",
   "id": "1bc3ea9a",
   "metadata": {
    "ExecuteTime": {
     "end_time": "2024-10-04T08:36:25.066983Z",
     "start_time": "2024-10-04T08:36:24.431058Z"
    }
   },
   "source": [
    "print(top100_file_list[-1])\n",
    "df_top100 = pd.read_csv(top100_file_list[-1], encoding=\"shift-jis\")\n",
    "\n",
    "\n",
    "df_top100.dropna(subset=[\"account_id\"], inplace=True)\n",
    "\n",
    "df_top100[\"percent_change\"] = df_top100[\"percent_change\"].astype(float)\n",
    "df_top100.dropna(subset=[\"percent_change\"], inplace=True)\n",
    "\n",
    "df_top100[\"percent_change\"] = df_top100[\"percent_change\"] - 100\n",
    "df_top100 = df_top100[df_top100[\"percent_change\"]!=0]\n"
   ],
   "outputs": [
    {
     "name": "stdout",
     "output_type": "stream",
     "text": [
      "data/top100_traders_20240901_20240930.csv\n"
     ]
    }
   ],
   "execution_count": 6
  },
  {
   "cell_type": "markdown",
   "id": "e0e8aef5",
   "metadata": {},
   "source": [
    "## 上位200"
   ]
  },
  {
   "cell_type": "code",
   "id": "cb1d7c0e",
   "metadata": {
    "ExecuteTime": {
     "end_time": "2024-10-04T08:36:38.082659Z",
     "start_time": "2024-10-04T08:36:38.067913Z"
    }
   },
   "source": [
    "top200 = df_top100.sort_values(\"percent_change\", ascending=False).head(200)\n",
    "top200.head()[[\"account_id\", \"percent_change\"]]"
   ],
   "outputs": [
    {
     "data": {
      "text/plain": [
       "                  account_id  percent_change\n",
       "167667   001-009-6570488-001      349.679012\n",
       "25140              811646100      262.221893\n",
       "80200   001-009-11096135-001      182.776937\n",
       "136810    001-009-400924-001      163.092845\n",
       "121518   001-009-3351587-001      145.912186"
      ],
      "text/html": [
       "<div>\n",
       "<style scoped>\n",
       "    .dataframe tbody tr th:only-of-type {\n",
       "        vertical-align: middle;\n",
       "    }\n",
       "\n",
       "    .dataframe tbody tr th {\n",
       "        vertical-align: top;\n",
       "    }\n",
       "\n",
       "    .dataframe thead th {\n",
       "        text-align: right;\n",
       "    }\n",
       "</style>\n",
       "<table border=\"1\" class=\"dataframe\">\n",
       "  <thead>\n",
       "    <tr style=\"text-align: right;\">\n",
       "      <th></th>\n",
       "      <th>account_id</th>\n",
       "      <th>percent_change</th>\n",
       "    </tr>\n",
       "  </thead>\n",
       "  <tbody>\n",
       "    <tr>\n",
       "      <th>167667</th>\n",
       "      <td>001-009-6570488-001</td>\n",
       "      <td>349.679012</td>\n",
       "    </tr>\n",
       "    <tr>\n",
       "      <th>25140</th>\n",
       "      <td>811646100</td>\n",
       "      <td>262.221893</td>\n",
       "    </tr>\n",
       "    <tr>\n",
       "      <th>80200</th>\n",
       "      <td>001-009-11096135-001</td>\n",
       "      <td>182.776937</td>\n",
       "    </tr>\n",
       "    <tr>\n",
       "      <th>136810</th>\n",
       "      <td>001-009-400924-001</td>\n",
       "      <td>163.092845</td>\n",
       "    </tr>\n",
       "    <tr>\n",
       "      <th>121518</th>\n",
       "      <td>001-009-3351587-001</td>\n",
       "      <td>145.912186</td>\n",
       "    </tr>\n",
       "  </tbody>\n",
       "</table>\n",
       "</div>"
      ]
     },
     "execution_count": 7,
     "metadata": {},
     "output_type": "execute_result"
    }
   ],
   "execution_count": 7
  },
  {
   "cell_type": "markdown",
   "id": "554655c5",
   "metadata": {},
   "source": [
    "## 下位200"
   ]
  },
  {
   "cell_type": "code",
   "id": "02e623a1",
   "metadata": {
    "ExecuteTime": {
     "end_time": "2024-10-04T08:36:39.955438Z",
     "start_time": "2024-10-04T08:36:39.944369Z"
    }
   },
   "source": [
    "worst200 = df_top100.sort_values(\"percent_change\", ascending=True).head(200)\n",
    "worst200.head()[[\"account_id\", \"percent_change\"]]"
   ],
   "outputs": [
    {
     "data": {
      "text/plain": [
       "                 account_id  percent_change\n",
       "43680             811664648      -89.014917\n",
       "19295             811640201      -88.740138\n",
       "86478   001-009-1381402-001      -88.560693\n",
       "158654  001-009-5509204-001      -88.226235\n",
       "180137  001-009-8160181-001      -86.293785"
      ],
      "text/html": [
       "<div>\n",
       "<style scoped>\n",
       "    .dataframe tbody tr th:only-of-type {\n",
       "        vertical-align: middle;\n",
       "    }\n",
       "\n",
       "    .dataframe tbody tr th {\n",
       "        vertical-align: top;\n",
       "    }\n",
       "\n",
       "    .dataframe thead th {\n",
       "        text-align: right;\n",
       "    }\n",
       "</style>\n",
       "<table border=\"1\" class=\"dataframe\">\n",
       "  <thead>\n",
       "    <tr style=\"text-align: right;\">\n",
       "      <th></th>\n",
       "      <th>account_id</th>\n",
       "      <th>percent_change</th>\n",
       "    </tr>\n",
       "  </thead>\n",
       "  <tbody>\n",
       "    <tr>\n",
       "      <th>43680</th>\n",
       "      <td>811664648</td>\n",
       "      <td>-89.014917</td>\n",
       "    </tr>\n",
       "    <tr>\n",
       "      <th>19295</th>\n",
       "      <td>811640201</td>\n",
       "      <td>-88.740138</td>\n",
       "    </tr>\n",
       "    <tr>\n",
       "      <th>86478</th>\n",
       "      <td>001-009-1381402-001</td>\n",
       "      <td>-88.560693</td>\n",
       "    </tr>\n",
       "    <tr>\n",
       "      <th>158654</th>\n",
       "      <td>001-009-5509204-001</td>\n",
       "      <td>-88.226235</td>\n",
       "    </tr>\n",
       "    <tr>\n",
       "      <th>180137</th>\n",
       "      <td>001-009-8160181-001</td>\n",
       "      <td>-86.293785</td>\n",
       "    </tr>\n",
       "  </tbody>\n",
       "</table>\n",
       "</div>"
      ]
     },
     "execution_count": 8,
     "metadata": {},
     "output_type": "execute_result"
    }
   ],
   "execution_count": 8
  },
  {
   "cell_type": "markdown",
   "id": "a399da5b",
   "metadata": {},
   "source": [
    "## 6ヶ月連続にプラス成績"
   ]
  },
  {
   "cell_type": "code",
   "id": "7cb6e564",
   "metadata": {
    "ExecuteTime": {
     "end_time": "2024-10-04T08:36:42.795677Z",
     "start_time": "2024-10-04T08:36:42.790171Z"
    }
   },
   "source": [
    "top100_file_list = glob.glob(\"data/top100*csv\")\n",
    "top100_file_list.sort()\n",
    "top100_file_list = top100_file_list[-6:]\n",
    "top100_file_list"
   ],
   "outputs": [
    {
     "data": {
      "text/plain": [
       "['data/top100_traders_20240401_20240430.csv',\n",
       " 'data/top100_traders_20240501_20240531.csv',\n",
       " 'data/top100_traders_20240601_20240630.csv',\n",
       " 'data/top100_traders_20240701_20240731.csv',\n",
       " 'data/top100_traders_20240801_20240831.csv',\n",
       " 'data/top100_traders_20240901_20240930.csv']"
      ]
     },
     "execution_count": 9,
     "metadata": {},
     "output_type": "execute_result"
    }
   ],
   "execution_count": 9
  },
  {
   "cell_type": "code",
   "id": "50d153c0",
   "metadata": {
    "ExecuteTime": {
     "end_time": "2024-10-04T08:36:47.151365Z",
     "start_time": "2024-10-04T08:36:43.469614Z"
    }
   },
   "source": [
    "# read dataframes\n",
    "df_list = []\n",
    "for path in top100_file_list:\n",
    "    df_tmp = pd.read_csv(path, encoding=\"shift-jis\")\n",
    "    df_tmp[\"period\"] = path.split(\"_\")[-2][:6]\n",
    "    df_tmp.dropna(subset=[\"account_id\"], inplace=True)\n",
    "    df_list.append(df_tmp)\n",
    "\n",
    "# concat dataframes\n",
    "df = pd.concat(df_list, ignore_index=True)\n",
    "\n",
    "# change format\n",
    "df[\"percent_change\"] = df[\"percent_change\"].astype(float)\n",
    "df[\"account_id\"] = df[\"account_id\"].astype(str)\n",
    "\n",
    "# remove NaN data\n",
    "df.dropna(subset=[\"percent_change\"], inplace=True)"
   ],
   "outputs": [],
   "execution_count": 10
  },
  {
   "cell_type": "code",
   "id": "809c93b3",
   "metadata": {
    "ExecuteTime": {
     "end_time": "2024-10-04T08:36:51.713493Z",
     "start_time": "2024-10-04T08:36:50.210015Z"
    }
   },
   "source": [
    "df_agg = df.groupby(\"account_id\").agg({\"percent_change\": [\"min\", \"mean\", \"max\", \"count\"], \"period\": \"max\"})\n",
    "\n",
    "df_6months = df_agg[\n",
    "    (df_agg[(\"percent_change\", \"min\")]>100) & \n",
    "    (df_agg[(\"period\", \"max\")]==df_tmp[\"period\"].max()) & \n",
    "    (df_agg[(\"percent_change\", \"count\")]==6)\n",
    "]"
   ],
   "outputs": [],
   "execution_count": 11
  },
  {
   "cell_type": "code",
   "id": "63712c51-fbec-4ba1-9bae-bc79d8e48e57",
   "metadata": {
    "tags": [],
    "ExecuteTime": {
     "end_time": "2024-10-04T08:36:52.120683Z",
     "start_time": "2024-10-04T08:36:52.108060Z"
    }
   },
   "source": [
    "df_6months[\"percent_change\"].reset_index()[[\"account_id\"]].drop_duplicates()"
   ],
   "outputs": [
    {
     "data": {
      "text/plain": [
       "              account_id\n",
       "0   001-009-10169545-001\n",
       "1   001-009-11164392-001\n",
       "2    001-009-1166306-001\n",
       "3    001-009-1247478-002\n",
       "4    001-009-1567287-002\n",
       "5    001-009-1613858-002\n",
       "6    001-009-1843675-001\n",
       "7    001-009-2458940-002\n",
       "8    001-009-2675730-002\n",
       "9    001-009-2814456-002\n",
       "10   001-009-3189012-002\n",
       "11    001-009-340229-016\n",
       "12    001-009-351226-002\n",
       "13   001-009-3512601-002\n",
       "14    001-009-380395-003\n",
       "15    001-009-397705-001\n",
       "16   001-009-4014193-001\n",
       "17    001-009-403043-001\n",
       "18    001-009-408524-003\n",
       "19    001-009-409307-001\n",
       "20   001-009-5757410-002\n",
       "21   001-009-7360781-001\n",
       "22   001-009-7460202-002\n",
       "23   001-009-7780774-001\n",
       "24   001-009-8259595-001\n",
       "25   001-009-8276990-001\n",
       "26    001-009-837621-001\n",
       "27    001-009-878172-001\n",
       "28   001-009-9566677-001\n",
       "29             811630500\n",
       "30             811634118\n",
       "31             811637925\n",
       "32             811641119\n",
       "33             811643111\n",
       "34             811644855\n",
       "35             811645275\n",
       "36             811645500\n",
       "37             811647614\n",
       "38             811650327\n",
       "39             811654701\n",
       "40             811663144\n",
       "41             811664363\n",
       "42             811668534\n",
       "43             811668610\n",
       "44             811670362\n",
       "45             811670640\n",
       "46             811672001\n",
       "47             900001033\n",
       "48             900002818"
      ],
      "text/html": [
       "<div>\n",
       "<style scoped>\n",
       "    .dataframe tbody tr th:only-of-type {\n",
       "        vertical-align: middle;\n",
       "    }\n",
       "\n",
       "    .dataframe tbody tr th {\n",
       "        vertical-align: top;\n",
       "    }\n",
       "\n",
       "    .dataframe thead th {\n",
       "        text-align: right;\n",
       "    }\n",
       "</style>\n",
       "<table border=\"1\" class=\"dataframe\">\n",
       "  <thead>\n",
       "    <tr style=\"text-align: right;\">\n",
       "      <th></th>\n",
       "      <th>account_id</th>\n",
       "    </tr>\n",
       "  </thead>\n",
       "  <tbody>\n",
       "    <tr>\n",
       "      <th>0</th>\n",
       "      <td>001-009-10169545-001</td>\n",
       "    </tr>\n",
       "    <tr>\n",
       "      <th>1</th>\n",
       "      <td>001-009-11164392-001</td>\n",
       "    </tr>\n",
       "    <tr>\n",
       "      <th>2</th>\n",
       "      <td>001-009-1166306-001</td>\n",
       "    </tr>\n",
       "    <tr>\n",
       "      <th>3</th>\n",
       "      <td>001-009-1247478-002</td>\n",
       "    </tr>\n",
       "    <tr>\n",
       "      <th>4</th>\n",
       "      <td>001-009-1567287-002</td>\n",
       "    </tr>\n",
       "    <tr>\n",
       "      <th>5</th>\n",
       "      <td>001-009-1613858-002</td>\n",
       "    </tr>\n",
       "    <tr>\n",
       "      <th>6</th>\n",
       "      <td>001-009-1843675-001</td>\n",
       "    </tr>\n",
       "    <tr>\n",
       "      <th>7</th>\n",
       "      <td>001-009-2458940-002</td>\n",
       "    </tr>\n",
       "    <tr>\n",
       "      <th>8</th>\n",
       "      <td>001-009-2675730-002</td>\n",
       "    </tr>\n",
       "    <tr>\n",
       "      <th>9</th>\n",
       "      <td>001-009-2814456-002</td>\n",
       "    </tr>\n",
       "    <tr>\n",
       "      <th>10</th>\n",
       "      <td>001-009-3189012-002</td>\n",
       "    </tr>\n",
       "    <tr>\n",
       "      <th>11</th>\n",
       "      <td>001-009-340229-016</td>\n",
       "    </tr>\n",
       "    <tr>\n",
       "      <th>12</th>\n",
       "      <td>001-009-351226-002</td>\n",
       "    </tr>\n",
       "    <tr>\n",
       "      <th>13</th>\n",
       "      <td>001-009-3512601-002</td>\n",
       "    </tr>\n",
       "    <tr>\n",
       "      <th>14</th>\n",
       "      <td>001-009-380395-003</td>\n",
       "    </tr>\n",
       "    <tr>\n",
       "      <th>15</th>\n",
       "      <td>001-009-397705-001</td>\n",
       "    </tr>\n",
       "    <tr>\n",
       "      <th>16</th>\n",
       "      <td>001-009-4014193-001</td>\n",
       "    </tr>\n",
       "    <tr>\n",
       "      <th>17</th>\n",
       "      <td>001-009-403043-001</td>\n",
       "    </tr>\n",
       "    <tr>\n",
       "      <th>18</th>\n",
       "      <td>001-009-408524-003</td>\n",
       "    </tr>\n",
       "    <tr>\n",
       "      <th>19</th>\n",
       "      <td>001-009-409307-001</td>\n",
       "    </tr>\n",
       "    <tr>\n",
       "      <th>20</th>\n",
       "      <td>001-009-5757410-002</td>\n",
       "    </tr>\n",
       "    <tr>\n",
       "      <th>21</th>\n",
       "      <td>001-009-7360781-001</td>\n",
       "    </tr>\n",
       "    <tr>\n",
       "      <th>22</th>\n",
       "      <td>001-009-7460202-002</td>\n",
       "    </tr>\n",
       "    <tr>\n",
       "      <th>23</th>\n",
       "      <td>001-009-7780774-001</td>\n",
       "    </tr>\n",
       "    <tr>\n",
       "      <th>24</th>\n",
       "      <td>001-009-8259595-001</td>\n",
       "    </tr>\n",
       "    <tr>\n",
       "      <th>25</th>\n",
       "      <td>001-009-8276990-001</td>\n",
       "    </tr>\n",
       "    <tr>\n",
       "      <th>26</th>\n",
       "      <td>001-009-837621-001</td>\n",
       "    </tr>\n",
       "    <tr>\n",
       "      <th>27</th>\n",
       "      <td>001-009-878172-001</td>\n",
       "    </tr>\n",
       "    <tr>\n",
       "      <th>28</th>\n",
       "      <td>001-009-9566677-001</td>\n",
       "    </tr>\n",
       "    <tr>\n",
       "      <th>29</th>\n",
       "      <td>811630500</td>\n",
       "    </tr>\n",
       "    <tr>\n",
       "      <th>30</th>\n",
       "      <td>811634118</td>\n",
       "    </tr>\n",
       "    <tr>\n",
       "      <th>31</th>\n",
       "      <td>811637925</td>\n",
       "    </tr>\n",
       "    <tr>\n",
       "      <th>32</th>\n",
       "      <td>811641119</td>\n",
       "    </tr>\n",
       "    <tr>\n",
       "      <th>33</th>\n",
       "      <td>811643111</td>\n",
       "    </tr>\n",
       "    <tr>\n",
       "      <th>34</th>\n",
       "      <td>811644855</td>\n",
       "    </tr>\n",
       "    <tr>\n",
       "      <th>35</th>\n",
       "      <td>811645275</td>\n",
       "    </tr>\n",
       "    <tr>\n",
       "      <th>36</th>\n",
       "      <td>811645500</td>\n",
       "    </tr>\n",
       "    <tr>\n",
       "      <th>37</th>\n",
       "      <td>811647614</td>\n",
       "    </tr>\n",
       "    <tr>\n",
       "      <th>38</th>\n",
       "      <td>811650327</td>\n",
       "    </tr>\n",
       "    <tr>\n",
       "      <th>39</th>\n",
       "      <td>811654701</td>\n",
       "    </tr>\n",
       "    <tr>\n",
       "      <th>40</th>\n",
       "      <td>811663144</td>\n",
       "    </tr>\n",
       "    <tr>\n",
       "      <th>41</th>\n",
       "      <td>811664363</td>\n",
       "    </tr>\n",
       "    <tr>\n",
       "      <th>42</th>\n",
       "      <td>811668534</td>\n",
       "    </tr>\n",
       "    <tr>\n",
       "      <th>43</th>\n",
       "      <td>811668610</td>\n",
       "    </tr>\n",
       "    <tr>\n",
       "      <th>44</th>\n",
       "      <td>811670362</td>\n",
       "    </tr>\n",
       "    <tr>\n",
       "      <th>45</th>\n",
       "      <td>811670640</td>\n",
       "    </tr>\n",
       "    <tr>\n",
       "      <th>46</th>\n",
       "      <td>811672001</td>\n",
       "    </tr>\n",
       "    <tr>\n",
       "      <th>47</th>\n",
       "      <td>900001033</td>\n",
       "    </tr>\n",
       "    <tr>\n",
       "      <th>48</th>\n",
       "      <td>900002818</td>\n",
       "    </tr>\n",
       "  </tbody>\n",
       "</table>\n",
       "</div>"
      ]
     },
     "execution_count": 12,
     "metadata": {},
     "output_type": "execute_result"
    }
   ],
   "execution_count": 12
  },
  {
   "cell_type": "markdown",
   "id": "787996b4",
   "metadata": {},
   "source": [
    "# Excelで保存"
   ]
  },
  {
   "cell_type": "code",
   "id": "2f9c31ec",
   "metadata": {
    "ExecuteTime": {
     "end_time": "2024-10-04T08:37:08.220940Z",
     "start_time": "2024-10-04T08:37:08.180278Z"
    }
   },
   "source": [
    "period = top100_file_list[-1].split(\"_\")[-1][:6]\n",
    "\n",
    "# genereta excel file\n",
    "writer = pd.ExcelWriter(\"accounts_{}.xlsx\".format(period), engine='xlsxwriter')\n",
    "\n",
    "# update sheets\n",
    "top200[[\"account_id\"]].to_excel(writer, sheet_name=\"Top200\", index=False)\n",
    "worst200[[\"account_id\"]].to_excel(writer, sheet_name=\"Worst200\", index=False)\n",
    "df_6months[\"percent_change\"].reset_index()[[\"account_id\"]].to_excel(writer, sheet_name=\"6months\", index=False)\n",
    "\n",
    "# save \n",
    "#writer.save()\n",
    "\n",
    "# close\n",
    "writer.close()"
   ],
   "outputs": [],
   "execution_count": 15
  },
  {
   "cell_type": "code",
   "id": "90234c12",
   "metadata": {
    "ExecuteTime": {
     "end_time": "2024-10-04T08:37:07.161365Z",
     "start_time": "2024-10-04T08:37:07.159310Z"
    }
   },
   "source": "",
   "outputs": [],
   "execution_count": null
  },
  {
   "cell_type": "code",
   "execution_count": null,
   "id": "4f162d42-7e77-45b2-a3d7-dd2c55293ff2",
   "metadata": {},
   "outputs": [],
   "source": []
  }
 ],
 "metadata": {
  "kernelspec": {
   "display_name": "Python 3 (ipykernel)",
   "language": "python",
   "name": "python3"
  },
  "language_info": {
   "codemirror_mode": {
    "name": "ipython",
    "version": 3
   },
   "file_extension": ".py",
   "mimetype": "text/x-python",
   "name": "python",
   "nbconvert_exporter": "python",
   "pygments_lexer": "ipython3",
   "version": "3.11.3"
  }
 },
 "nbformat": 4,
 "nbformat_minor": 5
}
